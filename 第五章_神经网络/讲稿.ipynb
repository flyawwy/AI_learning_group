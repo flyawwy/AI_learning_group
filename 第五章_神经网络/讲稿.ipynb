{
 "cells": [
  {
   "cell_type": "markdown",
   "metadata": {},
   "source": [
    "# 神经网络核心概念讲解\n",
    "\n",
    "### 引言\n",
    "各位同学好，今天我们一起来探讨神经网络这个主题。神经网络是人工智能领域最重要的基础之一，它通过模仿人类大脑的工作方式，实现了许多令人惊叹的应用。\n",
    "\n",
    "### 一、神经元模型\n",
    "让我们从最基本的构建块 - 神经元开始：\n",
    "\n",
    "1. **什么是神经元？**\n",
    "   - 就像人类大脑中的神经元一样，它接收信息，处理信息，然后做出响应\n",
    "   - 数学表达：$ y = f(\\sum w_ix_i + b) $\n",
    "  ![M-P神经元模型](https://lf26-appstore-sign.oceancloudapi.com/ocean-cloud-tos/BYTE_RAG_UPLOAD_BIZ_TYPE/None_1743418407908_J4FS6s5sfI.jpeg?lk3s=61a3dea3&x-expires=1746868828&x-signature=zFDsHTkfsceC7uRVXcZlUDimJCs%3D)\n",
    "\n",
    "1. **激活函数的作用**\n",
    "   - 常见的激活函数：阶跃函数、Sigmoid、ReLU\n",
    "   ![典型的神经元激活函数](https://lf3-appstore-sign.oceancloudapi.com/ocean-cloud-tos/BYTE_RAG_UPLOAD_BIZ_TYPE/None_1743418407908_0H6YJR0V0R.jpeg?lk3s=61a3dea3&x-expires=1746868828&x-signature=QVP3UtW1dj9lpk4ZIS5JrX3VNAg%3D)\n",
    "   - 比如ReLU函数：$ f(x) = max(0,x) $，它帮助我们解决了梯度消失的问题\n",
    "   - 在我们的代码示例中，就使用了ReLU激活函数：\n",
    "   "
   ]
  },
  {
   "cell_type": "code",
   "execution_count": null,
   "metadata": {},
   "outputs": [],
   "source": [
    "self.activation = nn.ReLU() # type: ignore"
   ]
  },
  {
   "cell_type": "markdown",
   "metadata": {},
   "source": [
    "\n",
    "### 二、从感知机到多层网络\n",
    "1. **单层感知机**\n",
    "   - 最简单的神经网络\n",
    "   - 只能解决线性分类问题\n",
    "   - 局限性：无法解决异或问题\n",
    "   ![感知机与多层网络](https://lf9-appstore-sign.oceancloudapi.com/ocean-cloud-tos/BYTE_RAG_UPLOAD_BIZ_TYPE/None_1743418407908_0Z0t0ZFr63.jpeg?lk3s=61a3dea3&x-expires=1746868828&x-signature=yEmWQOZGQJcr4Z%2BCinT2xUoR6BA%3D)\n",
    "1. **多层网络**\n",
    "   - 引入隐藏层\n",
    "   - 能够解决非线性问题\n",
    "   - 看我们的代码示例："
   ]
  },
  {
   "cell_type": "code",
   "execution_count": null,
   "metadata": {},
   "outputs": [],
   "source": [
    "self.fc1 = nn.Linear(1, 10)  # type: ignore # 输入层→隐藏层\n",
    "self.fc2 = nn.Linear(10, 1)  # type: ignore # 隐藏层→输出层"
   ]
  },
  {
   "cell_type": "markdown",
   "metadata": {},
   "source": [
    "### 三、BP算法\n",
    "1. **工作原理**\n",
    "   - 前向传播：计算预测结果\n",
    "   - 反向传播：计算误差并更新权重\n",
    "   - 代码中的训练过程："
   ]
  },
  {
   "cell_type": "code",
   "execution_count": null,
   "metadata": {},
   "outputs": [],
   "source": [
    "optimizer.zero_grad() # type: ignore\n",
    "outputs = model(X) # type: ignore\n",
    "loss = criterion(outputs, y) # type: ignore\n",
    "loss.backward()\n",
    "optimizer.step() # type: ignore"
   ]
  },
  {
   "cell_type": "markdown",
   "metadata": {},
   "source": [
    "\n",
    "2. **训练过程的可视化**\n",
    "   - 左图显示损失函数的变化\n",
    "   - 右图展示预测结果的改进\n",
    "   - 这直观地展示了网络的学习过程\n",
    "\n",
    "### 四、优化问题\n",
    "1. **全局最小与局部极小**\n",
    "   - 全局最小：最优解\n",
    "   - 局部极小：次优解\n",
    "   - 解决方法：随机初始化、使用Adam优化器等\n",
    "\n",
    "### 五、现代神经网络\n",
    "1. **CNN（卷积神经网络）**\n",
    "   - 特点：局部连接、权值共享\n",
    "   - 应用：图像识别、计算机视觉\n",
    "\n",
    "2. **RNN（循环神经网络）**\n",
    "   - 特点：具有记忆能力\n",
    "   - 应用：自然语言处理、语音识别\n",
    "\n",
    "### 六、深度学习的特点\n",
    "1. **优势**\n",
    "   - 自动特征学习\n",
    "   - 强大的表达能力\n",
    "   - 端到端学习\n",
    "\n",
    "2. **挑战**\n",
    "   - 需要大量数据\n",
    "   - 计算资源要求高\n",
    "   - 模型解释性差\n",
    "\n",
    "### 总结\n",
    "神经网络是一个不断发展的领域，从最初的感知机到现代的深度学习架构，它让机器具备了越来越强大的学习能力。通过我们今天展示的代码示例，大家也能直观地看到神经网络是如何学习和改进的。"
   ]
  },
  {
   "cell_type": "code",
   "execution_count": null,
   "metadata": {},
   "outputs": [],
   "source": [
    "import torch\n",
    "import torch.nn as nn\n",
    "import torch.optim as optim\n",
    "import matplotlib.pyplot as plt\n",
    "\n",
    "# 设置中文字体\n",
    "plt.rcParams['font.sans-serif'] = ['SimHei']\n",
    "plt.rcParams['axes.unicode_minus'] = False\n",
    "\n",
    "# 生成数据\n",
    "X = torch.linspace(-5, 5, 100).reshape(-1, 1)\n",
    "y = torch.sin(X) + 0.2 * torch.randn(X.size())\n",
    "\n",
    "# 定义网络\n",
    "class Net(nn.Module):\n",
    "    def __init__(self):\n",
    "        super(Net, self).__init__()\n",
    "        self.fc1 = nn.Linear(1, 10)  # 输入层→隐藏层\n",
    "        self.fc2 = nn.Linear(10, 1)  # 隐藏层→输出层\n",
    "        self.activation = nn.ReLU()   # 激活函数\n",
    "\n",
    "    def forward(self, x):\n",
    "        x = self.activation(self.fc1(x))\n",
    "        x = self.fc2(x)\n",
    "        return x\n",
    "\n",
    "# 训练\n",
    "model = Net()\n",
    "criterion = nn.MSELoss()\n",
    "optimizer = optim.Adam(model.parameters(), lr=0.01)\n",
    "\n",
    "losses = []\n",
    "epochs = 1000\n",
    "\n",
    "# 创建一个图形，包含两个子图\n",
    "plt.figure(figsize=(12, 5))\n",
    "\n",
    "# 训练循环\n",
    "for epoch in range(epochs):\n",
    "    optimizer.zero_grad()\n",
    "    outputs = model(X)\n",
    "    loss = criterion(outputs, y)\n",
    "    loss.backward()\n",
    "    optimizer.step()\n",
    "    losses.append(loss.item())\n",
    "    \n",
    "    # 每100个epoch绘制一次预测结果\n",
    "    if epoch % 100 == 0 or epoch == epochs-1:\n",
    "        plt.clf()  # 清除当前图形\n",
    "        \n",
    "        # 绘制损失函数\n",
    "        plt.subplot(1, 2, 1)\n",
    "        plt.plot(losses, 'b-', label='训练损失')\n",
    "        plt.title('训练过程中的损失变化')\n",
    "        plt.xlabel('训练轮次')\n",
    "        plt.ylabel('损失值')\n",
    "        plt.legend()\n",
    "        plt.grid(True)\n",
    "        \n",
    "        # 绘制预测结果\n",
    "        plt.subplot(1, 2, 2)\n",
    "        with torch.no_grad():\n",
    "            predicted = model(X)\n",
    "        plt.scatter(X.numpy(), y.numpy(), c='b', label='真实数据', alpha=0.5)\n",
    "        plt.plot(X.numpy(), predicted.numpy(), 'r-', label='模型预测', linewidth=2)\n",
    "        plt.title(f'预测结果 (Epoch {epoch+1})')\n",
    "        plt.xlabel('X')\n",
    "        plt.ylabel('Y')\n",
    "        plt.legend()\n",
    "        plt.grid(True)\n",
    "        \n",
    "        plt.tight_layout()\n",
    "        plt.pause(0.5)  # 暂停一小段时间以显示动画效果\n",
    "\n",
    "plt.show()  # 显示最终结果"
   ]
  },
  {
   "cell_type": "markdown",
   "metadata": {},
   "source": [
    "## 反思\n",
    "- 细节\n",
    "- 连贯性"
   ]
  }
 ],
 "metadata": {
  "kernelspec": {
   "display_name": "base",
   "language": "python",
   "name": "python3"
  },
  "language_info": {
   "codemirror_mode": {
    "name": "ipython",
    "version": 3
   },
   "file_extension": ".py",
   "mimetype": "text/x-python",
   "name": "python",
   "nbconvert_exporter": "python",
   "pygments_lexer": "ipython3",
   "version": "3.12.7"
  }
 },
 "nbformat": 4,
 "nbformat_minor": 2
}
